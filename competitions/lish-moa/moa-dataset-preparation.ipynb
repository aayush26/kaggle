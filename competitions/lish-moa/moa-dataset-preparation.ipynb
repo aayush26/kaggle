{
 "cells": [
  {
   "cell_type": "code",
   "execution_count": 1,
   "metadata": {
    "execution": {
     "iopub.execute_input": "2020-10-11T12:23:51.724912Z",
     "iopub.status.busy": "2020-10-11T12:23:51.723711Z",
     "iopub.status.idle": "2020-10-11T12:24:01.833414Z",
     "shell.execute_reply": "2020-10-11T12:24:01.832737Z"
    },
    "papermill": {
     "duration": 10.124794,
     "end_time": "2020-10-11T12:24:01.833561",
     "exception": false,
     "start_time": "2020-10-11T12:23:51.708767",
     "status": "completed"
    },
    "tags": []
   },
   "outputs": [],
   "source": [
    "!pip install -q iterative-stratification"
   ]
  },
  {
   "cell_type": "code",
   "execution_count": 2,
   "metadata": {
    "_cell_guid": "79c7e3d0-c299-4dcb-8224-4455121ee9b0",
    "_uuid": "d629ff2d2480ee46fbb7e2d37f6b5fab8052498a",
    "execution": {
     "iopub.execute_input": "2020-10-11T12:24:01.857873Z",
     "iopub.status.busy": "2020-10-11T12:24:01.857106Z",
     "iopub.status.idle": "2020-10-11T12:24:02.796495Z",
     "shell.execute_reply": "2020-10-11T12:24:02.795890Z"
    },
    "papermill": {
     "duration": 0.953954,
     "end_time": "2020-10-11T12:24:02.796656",
     "exception": false,
     "start_time": "2020-10-11T12:24:01.842702",
     "status": "completed"
    },
    "tags": []
   },
   "outputs": [],
   "source": [
    "# imports\n",
    "\n",
    "import numpy as np\n",
    "import pandas as pd\n",
    "from sklearn.preprocessing import StandardScaler\n",
    "from sklearn.model_selection import KFold\n",
    "from iterstrat.ml_stratifiers import MultilabelStratifiedKFold"
   ]
  },
  {
   "cell_type": "code",
   "execution_count": 3,
   "metadata": {
    "execution": {
     "iopub.execute_input": "2020-10-11T12:24:02.820164Z",
     "iopub.status.busy": "2020-10-11T12:24:02.819335Z",
     "iopub.status.idle": "2020-10-11T12:24:08.741216Z",
     "shell.execute_reply": "2020-10-11T12:24:08.740359Z"
    },
    "papermill": {
     "duration": 5.936082,
     "end_time": "2020-10-11T12:24:08.741345",
     "exception": false,
     "start_time": "2020-10-11T12:24:02.805263",
     "status": "completed"
    },
    "tags": []
   },
   "outputs": [],
   "source": [
    "# load data\n",
    "train = pd.read_csv('/kaggle/input/lish-moa/train_features.csv')\n",
    "train_target = pd.read_csv('/kaggle/input/lish-moa/train_targets_scored.csv')\n",
    "test = pd.read_csv('/kaggle/input/lish-moa/test_features.csv')"
   ]
  },
  {
   "cell_type": "code",
   "execution_count": 4,
   "metadata": {
    "execution": {
     "iopub.execute_input": "2020-10-11T12:24:08.787847Z",
     "iopub.status.busy": "2020-10-11T12:24:08.777347Z",
     "iopub.status.idle": "2020-10-11T12:24:17.170459Z",
     "shell.execute_reply": "2020-10-11T12:24:17.169733Z"
    },
    "papermill": {
     "duration": 8.42047,
     "end_time": "2020-10-11T12:24:17.170653",
     "exception": false,
     "start_time": "2020-10-11T12:24:08.750183",
     "status": "completed"
    },
    "tags": []
   },
   "outputs": [
    {
     "name": "stdout",
     "output_type": "stream",
     "text": [
      "(23814, 880):(3982, 880)\n",
      "(23814, 501):(3982, 501)\n"
     ]
    }
   ],
   "source": [
    "# feature engineering\n",
    "\n",
    "# From https://www.kaggle.com/carlmcbrideellis/moa-setting-ctl-vehicle-0-improves-score\n",
    "train.at[train['cp_type'].str.contains('ctl_vehicle'),train.filter(regex='-.*').columns] = 0.0\n",
    "test.at[test['cp_type'].str.contains('ctl_vehicle'),test.filter(regex='-.*').columns] = 0.0\n",
    "\n",
    "# One hot encoding\n",
    "train_size = train.shape[0]\n",
    "traintest = pd.concat([train, test])\n",
    "traintest = pd.concat([traintest, pd.get_dummies(traintest['cp_type'], prefix='cp_type')], axis=1)\n",
    "traintest = pd.concat([traintest, pd.get_dummies(traintest['cp_time'], prefix='cp_time')], axis=1)\n",
    "traintest = pd.concat([traintest, pd.get_dummies(traintest['cp_dose'], prefix='cp_dose')], axis=1)\n",
    "traintest = traintest.drop(['cp_type', 'cp_time', 'cp_dose'], axis=1)\n",
    "train = traintest[:train_size]\n",
    "test  = traintest[train_size:]\n",
    "del traintest\n",
    "\n",
    "# normalisation\n",
    "g_columns = [ c for c in train.columns if 'g-' in c ]\n",
    "scaler = StandardScaler()\n",
    "train[g_columns] = scaler.fit_transform(train[g_columns])\n",
    "test[g_columns] = scaler.transform(test[g_columns])\n",
    "print(\"{0}:{1}\".format(train.shape, test.shape))\n",
    "\n",
    "# top 500 features + sig_id (separately computed this list using RFECV)\n",
    "features = ['g-1', 'g-2', 'g-3', 'g-4', 'g-5', 'g-6', 'g-7', 'g-8', 'g-9', 'g-10', 'g-11', 'g-12', 'g-13', 'g-14', 'g-15', 'g-16', 'g-17', 'g-18', 'g-19', \n",
    "            'g-20', 'g-21', 'g-22', 'g-23', 'g-24', 'g-25', 'g-26', 'g-27', 'g-28', 'g-29', 'g-30', 'g-31', 'g-32', 'g-33', 'g-34', 'g-35', 'g-36', 'g-37', \n",
    "            'g-38', 'g-39', 'g-40', 'g-41', 'g-42', 'g-43', 'g-44', 'g-45', 'g-46', 'g-47', 'g-48', 'g-49', 'g-50', 'g-51', 'g-52', 'g-53', 'g-54', 'g-55', \n",
    "            'g-56', 'g-57', 'g-58', 'g-59', 'g-60', 'g-61', 'g-62', 'g-63', 'g-64', 'g-65', 'g-66', 'g-67', 'g-68', 'g-69', 'g-70', 'g-71', 'g-72', 'g-73', \n",
    "            'g-74', 'g-75', 'g-76', 'g-77', 'g-78', 'g-79', 'g-80', 'g-81', 'g-82', 'g-83', 'g-84', 'g-85', 'g-86', 'g-87', 'g-88', 'g-89', 'g-90', 'g-91', \n",
    "            'g-92', 'g-93', 'g-94', 'g-95', 'g-96', 'g-97', 'g-98', 'g-99', 'g-100', 'g-101', 'g-102', 'g-103', 'g-104', 'g-105', 'g-106', 'g-107', 'g-108', \n",
    "            'g-109', 'g-110', 'g-111', 'g-112', 'g-113', 'g-114', 'g-115', 'g-116', 'g-117', 'g-118', 'g-119', 'g-120', 'g-121', 'g-122', 'g-123', 'g-124', \n",
    "            'g-125', 'g-126', 'g-127', 'g-128', 'g-129', 'g-130', 'g-132', 'g-137', 'g-139', 'g-140', 'g-144', 'g-151', 'g-152', 'g-154', 'g-155', 'g-158', \n",
    "            'g-161', 'g-167', 'g-168', 'g-169', 'g-171', 'g-172', 'g-174', 'g-177', 'g-179', 'g-180', 'g-183', 'g-187', 'g-189', 'g-190', 'g-192', 'g-196', \n",
    "            'g-201', 'g-202', 'g-203', 'g-204', 'g-209', 'g-213', 'g-215', 'g-217', 'g-218', 'g-219', 'g-221', 'g-229', 'g-231', 'g-238', 'g-239', 'g-242', \n",
    "            'g-244', 'g-245', 'g-247', 'g-251', 'g-254', 'g-260', 'g-262', 'g-264', 'g-267', 'g-268', 'g-275', 'g-279', 'g-281', 'g-282', 'g-284', 'g-285', \n",
    "            'g-286', 'g-287', 'g-288', 'g-289', 'g-290', 'g-291', 'g-292', 'g-293', 'g-294', 'g-295', 'g-296', 'g-299', 'g-302', 'g-303', 'g-306', 'g-308', \n",
    "            'g-309', 'g-310', 'g-311', 'g-313', 'g-315', 'g-316', 'g-317', 'g-318', 'g-319', 'g-320', 'g-321', 'g-322', 'g-323', 'g-325', 'g-326', 'g-328', \n",
    "            'g-331', 'g-335', 'g-336', 'g-337', 'g-338', 'g-339', 'g-342', 'g-348', 'g-349', 'g-350', 'g-351', 'g-352', 'g-353', 'g-355', 'g-356', 'g-357', \n",
    "            'g-358', 'g-359', 'g-364', 'g-365', 'g-370', 'g-371', 'g-372', 'g-373', 'g-374', 'g-375', 'g-376', 'g-377', 'g-378', 'g-379', 'g-380', 'g-382', \n",
    "            'g-387', 'g-390', 'g-393', 'g-401', 'g-403', 'g-411', 'g-416', 'g-417', 'g-419', 'g-420', 'g-421', 'g-425', 'g-427', 'g-428', 'g-429', 'g-431', \n",
    "            'g-433', 'g-435', 'g-441', 'g-442', 'g-445', 'g-447', 'g-448', 'g-457', 'g-460', 'g-464', 'g-467', 'g-473', 'g-475', 'g-476', 'g-479', 'g-480', \n",
    "            'g-481', 'g-482', 'g-484', 'g-485', 'g-486', 'g-489', 'g-490', 'g-492', 'g-500', 'g-501', 'g-504', 'g-508', 'g-516', 'g-521', 'g-524', 'g-526', \n",
    "            'g-527', 'g-528', 'g-529', 'g-530', 'g-531', 'g-535', 'g-537', 'g-542', 'g-548', 'g-554', 'g-557', 'g-558', 'g-562', 'g-565', 'g-571', 'g-572', \n",
    "            'g-574', 'g-577', 'g-580', 'g-581', 'g-582', 'g-583', 'g-584', 'g-585', 'g-586', 'g-587', 'g-588', 'g-589', 'g-590', 'g-591', 'g-592', 'g-593', \n",
    "            'g-594', 'g-595', 'g-596', 'g-597', 'g-598', 'g-599', 'g-601', 'g-602', 'g-603', 'g-604', 'g-605', 'g-606', 'g-607', 'g-609', 'g-610', 'g-611', \n",
    "            'g-612', 'g-613', 'g-614', 'g-615', 'g-617', 'g-618', 'g-619', 'g-620', 'g-623', 'g-624', 'g-626', 'g-627', 'g-628', 'g-630', 'g-632', 'g-633', \n",
    "            'g-634', 'g-635', 'g-636', 'g-637', 'g-638', 'g-639', 'g-643', 'g-645', 'g-650', 'g-651', 'g-652', 'g-655', 'g-656', 'g-662', 'g-663', 'g-665', \n",
    "            'g-667', 'g-675', 'g-677', 'g-680', 'g-684', 'g-685', 'g-690', 'g-701', 'g-702', 'g-703', 'g-704', 'g-713', 'g-714', 'g-721', 'g-725', 'g-726', \n",
    "            'g-727', 'g-734', 'g-735', 'g-737', 'g-739', 'g-740', 'g-741', 'g-742', 'g-744', 'g-751', 'g-755', 'g-758', 'g-759', 'g-760', 'g-761', 'g-762', \n",
    "            'g-763', 'g-764', 'g-765', 'g-767', 'g-769', 'c-2', 'c-3', 'c-4', 'c-5', 'c-6', 'c-7', 'c-8', 'c-9', 'c-10', 'c-11', 'c-12', 'c-13', 'c-14', \n",
    "            'c-15', 'c-16', 'c-17', 'c-18', 'c-19', 'c-20', 'c-21', 'c-22', 'c-23', 'c-24', 'c-27', 'c-30', 'c-31', 'c-32', 'c-35', 'c-37', 'c-39', 'c-40', \n",
    "            'c-41', 'c-43', 'c-45', 'c-49', 'c-50', 'c-51', 'c-52', 'c-53', 'c-54', 'c-55', 'c-56', 'c-57', 'c-58', 'c-59', 'c-60', 'c-61', 'c-62', 'c-63', \n",
    "            'c-64', 'c-65', 'c-66', 'c-67', 'c-68', 'c-69', 'c-70', 'c-71', 'c-72', 'c-73', 'c-74', 'c-75', 'c-76', 'c-77', 'c-78', 'c-79', 'c-80', 'c-81', \n",
    "            'c-82', 'c-83', 'c-84', 'c-85', 'c-86', 'c-87', 'c-88', 'c-89', 'c-90', 'c-91', 'c-92', 'c-93', 'c-94', 'c-95', 'c-96', 'c-98', 'sig_id']\n",
    "\n",
    "train = train[features]\n",
    "test = test[features]\n",
    "print(\"{0}:{1}\".format(train.shape, test.shape))"
   ]
  },
  {
   "cell_type": "code",
   "execution_count": 5,
   "metadata": {
    "execution": {
     "iopub.execute_input": "2020-10-11T12:24:17.202674Z",
     "iopub.status.busy": "2020-10-11T12:24:17.201953Z",
     "iopub.status.idle": "2020-10-11T12:24:17.441627Z",
     "shell.execute_reply": "2020-10-11T12:24:17.442184Z"
    },
    "papermill": {
     "duration": 0.261019,
     "end_time": "2020-10-11T12:24:17.442352",
     "exception": false,
     "start_time": "2020-10-11T12:24:17.181333",
     "status": "completed"
    },
    "tags": []
   },
   "outputs": [],
   "source": [
    "# kfold\n",
    "train.loc[:, \"kfold\"] = -1\n",
    "train_target_folds = train_target.copy()\n",
    "train_target_folds.loc[:, \"kfold\"] = -1\n",
    "train = train.sample(frac=1).reset_index(drop=True)\n",
    "kf = KFold(n_splits=5, shuffle=True)\n",
    "for f, (t_, v_) in enumerate(kf.split(X=train, y=train_target)):\n",
    "    train.loc[v_, \"kfold\"] = f\n",
    "    train_target_folds.loc[v_, \"kfold\"] = f"
   ]
  },
  {
   "cell_type": "code",
   "execution_count": 6,
   "metadata": {
    "execution": {
     "iopub.execute_input": "2020-10-11T12:24:17.470808Z",
     "iopub.status.busy": "2020-10-11T12:24:17.470065Z",
     "iopub.status.idle": "2020-10-11T12:24:51.094371Z",
     "shell.execute_reply": "2020-10-11T12:24:51.093601Z"
    },
    "papermill": {
     "duration": 33.642499,
     "end_time": "2020-10-11T12:24:51.094502",
     "exception": false,
     "start_time": "2020-10-11T12:24:17.452003",
     "status": "completed"
    },
    "tags": []
   },
   "outputs": [
    {
     "name": "stderr",
     "output_type": "stream",
     "text": [
      "/opt/conda/lib/python3.7/site-packages/sklearn/utils/validation.py:70: FutureWarning: Pass shuffle=True, random_state=None as keyword args. From version 0.25 passing these as positional arguments will result in an error\n",
      "  FutureWarning)\n"
     ]
    }
   ],
   "source": [
    "# multilabel stratified kfold\n",
    "train.loc[:, \"skfold\"] = -1\n",
    "train_target_folds.loc[:, \"skfold\"] = -1\n",
    "mskf = MultilabelStratifiedKFold(n_splits=5, shuffle=True)\n",
    "for f, (t_, v_) in enumerate(mskf.split(X=train, y=train_target)):\n",
    "    train.loc[v_, \"skfold\"] = f\n",
    "    train_target_folds.loc[v_, \"skfold\"] = f\n",
    "train.to_csv(\"cleaned_train_folds.csv\", index=False)\n",
    "train_target_folds.to_csv(\"train_target_folds.csv\", index=False)"
   ]
  },
  {
   "cell_type": "code",
   "execution_count": 7,
   "metadata": {
    "execution": {
     "iopub.execute_input": "2020-10-11T12:24:51.120661Z",
     "iopub.status.busy": "2020-10-11T12:24:51.119922Z",
     "iopub.status.idle": "2020-10-11T12:24:51.129225Z",
     "shell.execute_reply": "2020-10-11T12:24:51.129757Z"
    },
    "papermill": {
     "duration": 0.024678,
     "end_time": "2020-10-11T12:24:51.129913",
     "exception": false,
     "start_time": "2020-10-11T12:24:51.105235",
     "status": "completed"
    },
    "tags": []
   },
   "outputs": [
    {
     "data": {
      "text/plain": [
       "4    4763\n",
       "3    4763\n",
       "2    4763\n",
       "0    4763\n",
       "1    4762\n",
       "Name: skfold, dtype: int64"
      ]
     },
     "execution_count": 7,
     "metadata": {},
     "output_type": "execute_result"
    }
   ],
   "source": [
    "train.skfold.value_counts()"
   ]
  },
  {
   "cell_type": "code",
   "execution_count": 8,
   "metadata": {
    "execution": {
     "iopub.execute_input": "2020-10-11T12:24:51.156547Z",
     "iopub.status.busy": "2020-10-11T12:24:51.155514Z",
     "iopub.status.idle": "2020-10-11T12:24:51.162112Z",
     "shell.execute_reply": "2020-10-11T12:24:51.162641Z"
    },
    "papermill": {
     "duration": 0.02226,
     "end_time": "2020-10-11T12:24:51.162793",
     "exception": false,
     "start_time": "2020-10-11T12:24:51.140533",
     "status": "completed"
    },
    "tags": []
   },
   "outputs": [
    {
     "data": {
      "text/plain": [
       "3    4763\n",
       "2    4763\n",
       "1    4763\n",
       "0    4763\n",
       "4    4762\n",
       "Name: kfold, dtype: int64"
      ]
     },
     "execution_count": 8,
     "metadata": {},
     "output_type": "execute_result"
    }
   ],
   "source": [
    "train.kfold.value_counts()"
   ]
  },
  {
   "cell_type": "code",
   "execution_count": null,
   "metadata": {
    "papermill": {
     "duration": 0.010879,
     "end_time": "2020-10-11T12:24:51.185022",
     "exception": false,
     "start_time": "2020-10-11T12:24:51.174143",
     "status": "completed"
    },
    "tags": []
   },
   "outputs": [],
   "source": []
  }
 ],
 "metadata": {
  "kernelspec": {
   "display_name": "Python 3",
   "language": "python",
   "name": "python3"
  },
  "language_info": {
   "codemirror_mode": {
    "name": "ipython",
    "version": 3
   },
   "file_extension": ".py",
   "mimetype": "text/x-python",
   "name": "python",
   "nbconvert_exporter": "python",
   "pygments_lexer": "ipython3",
   "version": "3.6.6"
  },
  "papermill": {
   "duration": 64.004784,
   "end_time": "2020-10-11T12:24:51.304398",
   "environment_variables": {},
   "exception": null,
   "input_path": "__notebook__.ipynb",
   "output_path": "__notebook__.ipynb",
   "parameters": {},
   "start_time": "2020-10-11T12:23:47.299614",
   "version": "2.1.0"
  }
 },
 "nbformat": 4,
 "nbformat_minor": 4
}
